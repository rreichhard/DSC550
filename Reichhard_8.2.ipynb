{
 "cells": [
  {
   "cell_type": "code",
   "execution_count": 2,
   "metadata": {},
   "outputs": [
    {
     "ename": "ModuleNotFoundError",
     "evalue": "No module named 'yellowbrick'",
     "output_type": "error",
     "traceback": [
      "\u001b[1;31m---------------------------------------------------------------------------\u001b[0m",
      "\u001b[1;31mModuleNotFoundError\u001b[0m                       Traceback (most recent call last)",
      "\u001b[1;32m<ipython-input-2-f2d38c67ada9>\u001b[0m in \u001b[0;36m<module>\u001b[1;34m\u001b[0m\n\u001b[0;32m      2\u001b[0m \u001b[1;32mimport\u001b[0m \u001b[0mnumpy\u001b[0m \u001b[1;32mas\u001b[0m \u001b[0mnp\u001b[0m\u001b[1;33m\u001b[0m\u001b[1;33m\u001b[0m\u001b[0m\n\u001b[0;32m      3\u001b[0m \u001b[1;32mimport\u001b[0m \u001b[0mpandas\u001b[0m \u001b[1;32mas\u001b[0m \u001b[0mpd\u001b[0m\u001b[1;33m\u001b[0m\u001b[1;33m\u001b[0m\u001b[0m\n\u001b[1;32m----> 4\u001b[1;33m \u001b[1;32mimport\u001b[0m \u001b[0myellowbrick\u001b[0m\u001b[1;33m\u001b[0m\u001b[1;33m\u001b[0m\u001b[0m\n\u001b[0m\u001b[0;32m      5\u001b[0m \u001b[1;32mfrom\u001b[0m \u001b[0myellowbrick\u001b[0m\u001b[1;33m.\u001b[0m\u001b[0mfeatures\u001b[0m \u001b[1;32mimport\u001b[0m \u001b[0mRank2D\u001b[0m\u001b[1;33m\u001b[0m\u001b[1;33m\u001b[0m\u001b[0m\n\u001b[0;32m      6\u001b[0m \u001b[1;32mfrom\u001b[0m \u001b[0myellowbrick\u001b[0m\u001b[1;33m.\u001b[0m\u001b[0mstyle\u001b[0m \u001b[1;32mimport\u001b[0m \u001b[0mset_palette\u001b[0m\u001b[1;33m\u001b[0m\u001b[1;33m\u001b[0m\u001b[0m\n",
      "\u001b[1;31mModuleNotFoundError\u001b[0m: No module named 'yellowbrick'"
     ]
    }
   ],
   "source": [
    "# Load necessary libraries\n",
    "import numpy as np\n",
    "import pandas as pd\n",
    "import yellowbrick\n",
    "from yellowbrick.features import Rank2D\n",
    "from yellowbrick.style import set_palette\n",
    "from yellowbrick.features import ParallelCoordinates\n",
    "import matplotlib.pyplot as plt\n",
    "from sklearn.model_selection import train_test_split\n",
    "from sklearn.linear_model import LogisticRegression\n",
    "from yellowbrick.classifier import ConfusionMatrix\n",
    "from yellowbrick.classifier import ClassificationReport\n",
    "from yellowbrick.classifier import ROCAUC"
   ]
  },
  {
   "cell_type": "code",
   "execution_count": null,
   "metadata": {},
   "outputs": [],
   "source": [
    "# Read in data, view the first 5 rows\n",
    "\n",
    "df = pd.read_csv(\"train.csv\")\n",
    "df.head(5)"
   ]
  },
  {
   "cell_type": "code",
   "execution_count": null,
   "metadata": {},
   "outputs": [],
   "source": [
    "# Display the dimensions of the file\n",
    "\n",
    "df.shape"
   ]
  },
  {
   "cell_type": "code",
   "execution_count": null,
   "metadata": {},
   "outputs": [],
   "source": [
    "print(\"Describe Data\")\n",
    "print(df.describe())\n",
    "print(\"Summarized Data\")\n",
    "print(df.describe(include=['O']))"
   ]
  },
  {
   "cell_type": "code",
   "execution_count": null,
   "metadata": {},
   "outputs": [],
   "source": [
    "# Create histograms\n",
    "\n",
    "\n",
    "%matplotlib inline\n",
    "plt.rcParams['figure.figsize']=(20,10)\n",
    "fig, axes = plt.subplots(nrows=2, ncols=2)\n",
    "num_features = ['Age','SibSp','Parch','Fare']\n",
    "xaxes=num_features\n",
    "yaxes = ['Counts','Counts','Counts','Counts']\n",
    "axes = axes.ravel()\n",
    "for idx, ax in enumerate(axes):\n",
    "    ax.hist(df[num_features[idx]].dropna(),bins=40)\n",
    "    ax.set_xlabel(xaxes[idx],fontsize=20)\n",
    "    ax.set_ylabel(yaxes[idx],fontsize=20)\n",
    "    ax.tick_params(axis='both',labelsize=15)\n",
    "plt.show()\n"
   ]
  },
  {
   "cell_type": "code",
   "execution_count": null,
   "metadata": {},
   "outputs": [],
   "source": [
    "# Make some bar charts\n",
    "\n",
    "\n",
    "\n",
    "%matplotlib inline\n",
    "plt.rcParams['figure.figsize']=(20,10)\n",
    "fig, axes = plt.subplots(nrows=2, ncols=2)\n",
    "X_Survived = df.replace({'Survived': {1:'yes',0:'no'}}).groupby('Survived').size().reset_index(name='Counts')['Survived']\n",
    "Y_Survived = df.replace({'Survived':{1:'yes',0:'no'}}).groupby('Survived').size().reset_index(name='Counts')['Counts']\n",
    "axes[0,0].bar(X_Survived,Y_Survived)\n",
    "axes[0,0].set_title('Survived',fontsize=25)\n",
    "axes[0,0].set_ylabel('Counts', fontsize=20)\n",
    "axes[0,0].tick_params(axis='both',labelsize=15)\n",
    "\n",
    "X_Pclass = df.replace({'Pclass':{1:'1st', 2:'2nd',3:'3rd'}}).groupby('Pclass').size().reset_index(name='Counts')['Pclass']\n",
    "Y_Pclass = df.replace({'Pclass':{1:'1st',2:'2nd',3:'3rd'}}).groupby('Pclass').size().reset_index(name='Counts')['Counts']\n",
    "axes[0,1].bar(X_Pclass,Y_Pclass)\n",
    "axes[0,1].set_title('Pclass',fontsize=25)\n",
    "axes[0,1].set_ylabel('Counts',fontsize=20)\n",
    "axes[0,1].tick_params(axis='both',labelsize=15)\n",
    "\n",
    "X_Sex = df.groupby('Sex').size().reset_index(name='Counts')['Sex']\n",
    "Y_Sex = df.groupby('Sex').size().reset_index(name='Counts')['Counts']\n",
    "axes[1,0].bar(X_Sex,Y_Sex)\n",
    "axes[1,0].set_title('Sex',fontsize=25)\n",
    "axes[1,0].set_ylabel('Counts',fontsize=20)\n",
    "axes[1,0].tick_params(axis='both',labelsize=15)\n",
    "\n",
    "X_Embarked = df.groupby('Embarked').size().reset_index(name='Counts')['Embarked']\n",
    "Y_Embarked = df.groupby('Embarked').size().reset_index(name='Counts')['Counts']\n",
    "axes[1,1].bar(X_Embarked, Y_Embarked)\n",
    "axes[1,1].set_title('Embarked', fontsize=25)\n",
    "axes[1,1].set_ylabel('Counts', fontsize=20)\n",
    "axes[1,1].tick_params(axis='both', labelsize=15)\n",
    "plt.show()"
   ]
  },
  {
   "cell_type": "code",
   "execution_count": null,
   "metadata": {},
   "outputs": [],
   "source": [
    "# Calculate the Pearson Ranking to determine correlation\n",
    "\n",
    "\n",
    "%matplotlib inline\n",
    "plt.rcParams['figure.figsize']=(15,7)\n",
    "X = df[num_features].to_numpy() # this or df[num_features].values work :-)\n",
    "visualizer = Rank2D(features=num_features,algorithm='pearson')\n",
    "visualizer.fit(X)\n",
    "visualizer.transform(X)\n",
    "plt.show()"
   ]
  },
  {
   "cell_type": "code",
   "execution_count": null,
   "metadata": {},
   "outputs": [],
   "source": [
    "%matplotlib inline\n",
    "plt.rcParams['figure.figsize']=(15,7)\n",
    "plt.rcParams['font.size']=50\n",
    "set_palette('sns_bright')\n",
    "classes=['Not-survived','Survived']\n",
    "num_features = ['Age','SibSp','Parch','Fare']\n",
    "df_norm=df.copy()\n",
    "for feature in num_features:\n",
    "    df_norm[feature] = (df[feature] - df[feature].mean(skipna=True))/(df[feature].max(skipna=True)-df[feature].min(skipna=True))\n",
    "df[feature].min(skipna=True)\n",
    "X = df_norm[num_features].values\n",
    "y = df.Survived.values\n",
    "\n",
    "\n",
    "visualizer = ParallelCoordinates(classes=classes, features=num_features)\n",
    "visualizer.fit(X,y)\n",
    "visualizer.transform(X)\n",
    "plt.show()"
   ]
  },
  {
   "cell_type": "code",
   "execution_count": null,
   "metadata": {},
   "outputs": [],
   "source": [
    "%matplotlib inline\n",
    "plt.rcParams['figure.figsize'] = (20, 10)\n",
    "fig, axes = plt.subplots(nrows = 2, ncols = 2)\n",
    "\n",
    "\n",
    "\n",
    "Sex_survived = df.replace({'Survived': {1: 'Survived', 0: 'Not-survived'}})[df['Survived']==1]['Sex'].value_counts()\n",
    "Sex_not_survived = df.replace({'Survived': {1: 'Survived', 0: 'Not-survived'}})[df['Survived']==0]['Sex'].value_counts()\n",
    "Sex_not_survived = Sex_not_survived.reindex(index = Sex_survived.index)\n",
    "\n",
    "\n",
    "\n",
    "p1 = axes[0,0].bar(Sex_survived.index, Sex_survived.values)\n",
    "p2 = axes[0,0].bar(Sex_not_survived.index, Sex_not_survived.values, bottom=Sex_survived.values)\n",
    "axes[0,0].set_title('Sex', fontsize=25)\n",
    "axes[0,0].set_ylabel('Counts', fontsize=20)\n",
    "axes[0,0].tick_params(axis='both', labelsize=15)\n",
    "axes[0,0].legend((p1[0], p2[0]), ('Survived', 'Not-survived'), fontsize = 15)\n",
    "\n",
    "\n",
    "\n",
    "Pclass_survived = df.replace({'Survived': {1: 'Survived', 0: 'Not-survived'}}).replace({'Pclass': {1: '1st', 2: '2nd', 3: '3rd'}})[df['Survived']==1]['Pclass'].value_counts()\n",
    "Pclass_not_survived = df.replace({'Survived': {1: 'Survived', 0: 'Not-survived'}}).replace({'Pclass': {1: '1st', 2: '2nd', 3: '3rd'}})[df['Survived']==0]['Pclass'].value_counts()\n",
    "Pclass_not_survived = Pclass_not_survived.reindex(index = Pclass_survived.index)\n",
    "# make the bar plot\n",
    "p3 = axes[0,1].bar(Pclass_survived.index, Pclass_survived.values)\n",
    "p4 = axes[0,1].bar(Pclass_not_survived.index, Pclass_not_survived.values, bottom=Pclass_survived.values)\n",
    "axes[0,1].set_title('Pclass', fontsize=25)\n",
    "axes[0,1].set_ylabel('Counts', fontsize=20)\n",
    "axes[0,1].tick_params(axis='both', labelsize=15)\n",
    "axes[0,1].legend((p3[0], p4[0]), ('Survived', 'Not-survived'), fontsize = 15)\n",
    "\n",
    "\n",
    "Embarked_survived = df.replace({'Survived': {1: 'Survived', 0: 'Not-survived'}})[df['Survived']==1]['Embarked'].value_counts()\n",
    "Embarked_not_survived = df.replace({'Survived': {1: 'Survived', 0: 'Not-survived'}})[df['Survived']==0]['Embarked'].value_counts()\n",
    "Embarked_not_survived = Embarked_not_survived.reindex(index = Embarked_survived.index)\n",
    "\n",
    "\n",
    "p5 = axes[1,0].bar(Embarked_survived.index, Embarked_survived.values)\n",
    "p6 = axes[1,0].bar(Embarked_not_survived.index, Embarked_not_survived.values, bottom=Embarked_survived.values)\n",
    "axes[1,0].set_title('Embarked', fontsize=25)\n",
    "axes[1,0].set_ylabel('Counts', fontsize=20)\n",
    "axes[1,0].tick_params(axis='both', labelsize=15)\n",
    "axes[1,0].legend((p5[0], p6[0]), ('Survived', 'Not-survived'), fontsize = 15)\n",
    "plt.show()"
   ]
  },
  {
   "cell_type": "code",
   "execution_count": null,
   "metadata": {},
   "outputs": [],
   "source": [
    "# Create a function to fill in the missing values with the median value\n",
    "\n",
    "def fill_na_median(data,inplace=True):\n",
    "    return data.fillna(data.median(), inplace=inplace)"
   ]
  },
  {
   "cell_type": "code",
   "execution_count": null,
   "metadata": {},
   "outputs": [],
   "source": [
    "fill_na_median(df['Age'])"
   ]
  },
  {
   "cell_type": "code",
   "execution_count": null,
   "metadata": {},
   "outputs": [],
   "source": [
    "print(df['Age'].describe())"
   ]
  },
  {
   "cell_type": "code",
   "execution_count": null,
   "metadata": {},
   "outputs": [],
   "source": [
    "# Create a function to fill in the missing values with the most represented value\n",
    "\n",
    "def fill_na_most(data,inplace=True):\n",
    "    return data.fillna('S', inplace=inplace)"
   ]
  },
  {
   "cell_type": "code",
   "execution_count": null,
   "metadata": {},
   "outputs": [],
   "source": [
    "fill_na_most(df['Embarked'])"
   ]
  },
  {
   "cell_type": "code",
   "execution_count": null,
   "metadata": {},
   "outputs": [],
   "source": [
    "print(df['Embarked'].describe())"
   ]
  },
  {
   "cell_type": "code",
   "execution_count": null,
   "metadata": {},
   "outputs": [],
   "source": [
    "# Create a function to return the log of the data\n",
    "\n",
    "def log_transformation(data):\n",
    "    return data.apply(np.log1p)"
   ]
  },
  {
   "cell_type": "code",
   "execution_count": null,
   "metadata": {},
   "outputs": [],
   "source": [
    "# apply this function to the Fare feature as it is skewed\n",
    "\n",
    "df['Fare_log1p'] = log_transformation(df['Fare'])"
   ]
  },
  {
   "cell_type": "code",
   "execution_count": null,
   "metadata": {},
   "outputs": [],
   "source": [
    "# Check to see what that new feature looks like\n",
    "\n",
    "print(df.describe())"
   ]
  },
  {
   "cell_type": "code",
   "execution_count": null,
   "metadata": {},
   "outputs": [],
   "source": [
    "# histogram it up for this new feature in comparison to the og fare feature\n",
    "\n",
    "\n",
    "plt.rcParams['figure.figsize']=(10,5)\n",
    "fig, axes = plt.subplots(nrows = 1, ncols = 2)\n",
    "\n",
    "axes[0].hist(df['Fare'], bins=40)\n",
    "axes[0].set_ylabel('Counts', fontsize=20)\n",
    "axes[0].set_xlabel('Fare', fontsize=20)\n",
    "axes[0].tick_params(axis='both',labelsize=15)\n",
    "\n",
    "\n",
    "axes[1].hist(df['Fare_log1p'], bins=40)\n",
    "axes[1].set_xlabel('Fare_log1p', fontsize=20)\n",
    "axes[1].set_ylabel('Counts',fontsize=20)\n",
    "axes[1].tick_params(axis='both', labelsize=15)\n",
    "plt.show()"
   ]
  },
  {
   "cell_type": "code",
   "execution_count": null,
   "metadata": {},
   "outputs": [],
   "source": [
    "# Convert categorical features into numbers\n",
    "\n",
    "cat_features = ['Pclass', 'Sex','Embarked']\n",
    "df_cat = df[cat_features]\n",
    "df_cat = df_cat.replace({'Pclass':{1:'1st', 2:'2nd',3:'3rd'}})\n",
    "\n",
    "df_cat_dummies = pd.get_dummies(df_cat)"
   ]
  },
  {
   "cell_type": "code",
   "execution_count": null,
   "metadata": {},
   "outputs": [],
   "source": [
    "print(df_cat_dummies.head(8))"
   ]
  },
  {
   "cell_type": "code",
   "execution_count": null,
   "metadata": {},
   "outputs": [],
   "source": [
    "# create a brand new dataframe that is just the numerical features\n",
    "features_model = ['Age', 'SibSp', 'Parch', 'Fare_log1p'] \n",
    "\n",
    "# concatenate the dummy variables with the numerical features above\n",
    "data_model_X = pd.concat([data[features_model], data_cat_dummies], axis=1)"
   ]
  },
  {
   "cell_type": "code",
   "execution_count": null,
   "metadata": {},
   "outputs": [],
   "source": [
    "# create a dataframe for the target variable\n",
    "data_model_y = data.replace({'Survived': {1: 'Survived', 0: 'Not_survived'}})['Survived']"
   ]
  },
  {
   "cell_type": "code",
   "execution_count": null,
   "metadata": {},
   "outputs": [],
   "source": [
    "# split the data into testing & training datasets (testing=validation)\n",
    "X_train, X_val, y_train, y_val = train_test_split(data_model_X, data_model_y, test_size =0.3, random_state=11)"
   ]
  },
  {
   "cell_type": "code",
   "execution_count": null,
   "metadata": {},
   "outputs": [],
   "source": [
    "# How many samples are in each set?\n",
    "print(\"No. of samples in training set: \", X_train.shape[0])\n",
    "print(\"No. of samples in validation set:\", X_val.shape[0])"
   ]
  },
  {
   "cell_type": "code",
   "execution_count": null,
   "metadata": {},
   "outputs": [],
   "source": [
    "# how many survived and didn't in the training/validation data?\n",
    "\n",
    "print('\\n')\n",
    "print('No. of survived and not-survived in the training set:')\n",
    "print(y_train.value_counts())\n",
    "print('\\n')\n",
    "print('No. of survived and not-survived in the validation set:')\n",
    "print(y_val.value_counts())"
   ]
  },
  {
   "cell_type": "code",
   "execution_count": null,
   "metadata": {},
   "outputs": [],
   "source": [
    "# Instantiate the model\n",
    "\n",
    "model = LogisticRegression()"
   ]
  },
  {
   "cell_type": "code",
   "execution_count": null,
   "metadata": {},
   "outputs": [],
   "source": [
    "# Create a confusion matrix\n",
    "\n",
    "classes = ['Not_survived','Survived']\n",
    "cm = ConfusionMatrix(model, classes=classes, percent=False)\n",
    "cm.fit(X_train, y_train)\n",
    "cm.score(X_val, y_val)\n",
    "for label in cm.ax.texts:\n",
    "    label.set_size(20)\n",
    "cm.poof()"
   ]
  },
  {
   "cell_type": "code",
   "execution_count": null,
   "metadata": {},
   "outputs": [],
   "source": [
    "# Visualize the Precision, Recall, & F1 score\n",
    "\n",
    "plt.rcParams['figure.figsize'] = (15, 7)\n",
    "plt.rcParams['font.size'] = 20\n",
    "visualizer = ClassificationReport(model, classes=classes)\n",
    "visualizer.fit(X_train, y_train)\n",
    "visualizer.score(X_val, y_val)\n",
    "g = visualizer.poof()"
   ]
  },
  {
   "cell_type": "code",
   "execution_count": null,
   "metadata": {},
   "outputs": [],
   "source": [
    "# create the ROC AUC visual\n",
    "\n",
    "visualizer = ROCAUC(model)\n",
    "\n",
    "visualizer.fit(X_train, y_train)\n",
    "visualizer.score(X_val, y_val)\n",
    "g = visualizer.poof()"
   ]
  }
 ],
 "metadata": {
  "kernelspec": {
   "display_name": "Python 3",
   "language": "python",
   "name": "python3"
  },
  "language_info": {
   "codemirror_mode": {
    "name": "ipython",
    "version": 3
   },
   "file_extension": ".py",
   "mimetype": "text/x-python",
   "name": "python",
   "nbconvert_exporter": "python",
   "pygments_lexer": "ipython3",
   "version": "3.8.5"
  }
 },
 "nbformat": 4,
 "nbformat_minor": 4
}
