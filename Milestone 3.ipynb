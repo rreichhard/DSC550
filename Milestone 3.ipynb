{
 "cells": [
  {
   "cell_type": "code",
   "execution_count": 36,
   "metadata": {},
   "outputs": [],
   "source": [
    "# Import Libraries\n",
    "\n",
    "import pandas as pd\n",
    "import numpy as np\n",
    "import matplotlib.pyplot as plt\n",
    "from sklearn.preprocessing import Binarizer\n",
    "from sklearn.feature_extraction.text import CountVectorizer\n",
    "from sklearn.feature_extraction.text import TfidfVectorizer\n",
    "from sklearn.model_selection import train_test_split\n",
    "from sklearn.ensemble import RandomForestClassifier\n",
    "from sklearn.metrics import classification_report, confusion_matrix, accuracy_score\n",
    "from sklearn.metrics import roc_auc_score"
   ]
  },
  {
   "cell_type": "code",
   "execution_count": 4,
   "metadata": {},
   "outputs": [
    {
     "data": {
      "text/html": [
       "<div>\n",
       "<style scoped>\n",
       "    .dataframe tbody tr th:only-of-type {\n",
       "        vertical-align: middle;\n",
       "    }\n",
       "\n",
       "    .dataframe tbody tr th {\n",
       "        vertical-align: top;\n",
       "    }\n",
       "\n",
       "    .dataframe thead th {\n",
       "        text-align: right;\n",
       "    }\n",
       "</style>\n",
       "<table border=\"1\" class=\"dataframe\">\n",
       "  <thead>\n",
       "    <tr style=\"text-align: right;\">\n",
       "      <th></th>\n",
       "      <th>full_text</th>\n",
       "      <th>source</th>\n",
       "      <th>final_sources</th>\n",
       "      <th>text_final</th>\n",
       "      <th>Vader Sentiment</th>\n",
       "      <th>Vader Analysis</th>\n",
       "    </tr>\n",
       "  </thead>\n",
       "  <tbody>\n",
       "    <tr>\n",
       "      <th>0</th>\n",
       "      <td>@lysisbunny @wheeingloss Dm me if you need hel...</td>\n",
       "      <td>&lt;a href=\"http://twitter.com/download/iphone\" r...</td>\n",
       "      <td>twitter for iphone</td>\n",
       "      <td>lysisbunni wheeingloss dm need help bill cash app</td>\n",
       "      <td>0.4019</td>\n",
       "      <td>Neutral</td>\n",
       "    </tr>\n",
       "    <tr>\n",
       "      <th>1</th>\n",
       "      <td>RT @nope_thank_u: OR countless other Māori org...</td>\n",
       "      <td>&lt;a href=\"http://twitter.com/download/iphone\" r...</td>\n",
       "      <td>twitter for iphone</td>\n",
       "      <td>rt nope thank u countless ori organis fight or...</td>\n",
       "      <td>0.1999</td>\n",
       "      <td>Neutral</td>\n",
       "    </tr>\n",
       "    <tr>\n",
       "      <th>2</th>\n",
       "      <td>RT @voicesofvv: Driving around to our usual sp...</td>\n",
       "      <td>&lt;a href=\"https://mobile.twitter.com\" rel=\"nofo...</td>\n",
       "      <td>twitter web app</td>\n",
       "      <td>rt voicesofvv drive around usual spot weekli d...</td>\n",
       "      <td>0.3612</td>\n",
       "      <td>Neutral</td>\n",
       "    </tr>\n",
       "    <tr>\n",
       "      <th>3</th>\n",
       "      <td>RT @roshan_pie: I'm struggling financially rig...</td>\n",
       "      <td>&lt;a href=\"http://twitter.com/download/iphone\" r...</td>\n",
       "      <td>twitter for iphone</td>\n",
       "      <td>rt roshan pie struggl financi right employ end...</td>\n",
       "      <td>0.0000</td>\n",
       "      <td>Neutral</td>\n",
       "    </tr>\n",
       "    <tr>\n",
       "      <th>4</th>\n",
       "      <td>@babyygirlvenus Dm me if you need help with bi...</td>\n",
       "      <td>&lt;a href=\"http://twitter.com/download/iphone\" r...</td>\n",
       "      <td>twitter for iphone</td>\n",
       "      <td>babyygirlvenu dm need help bill cash app</td>\n",
       "      <td>0.4019</td>\n",
       "      <td>Neutral</td>\n",
       "    </tr>\n",
       "  </tbody>\n",
       "</table>\n",
       "</div>"
      ],
      "text/plain": [
       "                                           full_text  \\\n",
       "0  @lysisbunny @wheeingloss Dm me if you need hel...   \n",
       "1  RT @nope_thank_u: OR countless other Māori org...   \n",
       "2  RT @voicesofvv: Driving around to our usual sp...   \n",
       "3  RT @roshan_pie: I'm struggling financially rig...   \n",
       "4  @babyygirlvenus Dm me if you need help with bi...   \n",
       "\n",
       "                                              source        final_sources  \\\n",
       "0  <a href=\"http://twitter.com/download/iphone\" r...   twitter for iphone   \n",
       "1  <a href=\"http://twitter.com/download/iphone\" r...   twitter for iphone   \n",
       "2  <a href=\"https://mobile.twitter.com\" rel=\"nofo...      twitter web app   \n",
       "3  <a href=\"http://twitter.com/download/iphone\" r...   twitter for iphone   \n",
       "4  <a href=\"http://twitter.com/download/iphone\" r...   twitter for iphone   \n",
       "\n",
       "                                          text_final  Vader Sentiment  \\\n",
       "0  lysisbunni wheeingloss dm need help bill cash app           0.4019   \n",
       "1  rt nope thank u countless ori organis fight or...           0.1999   \n",
       "2  rt voicesofvv drive around usual spot weekli d...           0.3612   \n",
       "3  rt roshan pie struggl financi right employ end...           0.0000   \n",
       "4           babyygirlvenu dm need help bill cash app           0.4019   \n",
       "\n",
       "  Vader Analysis  \n",
       "0        Neutral  \n",
       "1        Neutral  \n",
       "2        Neutral  \n",
       "3        Neutral  \n",
       "4        Neutral  "
      ]
     },
     "execution_count": 4,
     "metadata": {},
     "output_type": "execute_result"
    }
   ],
   "source": [
    "# Import Dataset\n",
    "df = pd.read_csv('Clean Tweets.csv')\n",
    "df.head()"
   ]
  },
  {
   "cell_type": "markdown",
   "metadata": {},
   "source": [
    "### I see that the first character of every \"final source\" feature is a space. I'd like to remove that"
   ]
  },
  {
   "cell_type": "code",
   "execution_count": 5,
   "metadata": {},
   "outputs": [
    {
     "data": {
      "text/plain": [
       "'twitter for iphone'"
      ]
     },
     "execution_count": 5,
     "metadata": {},
     "output_type": "execute_result"
    }
   ],
   "source": [
    "df['final_sources'] = df.final_sources.str[1:]\n",
    "df.final_sources[0]"
   ]
  },
  {
   "cell_type": "code",
   "execution_count": 6,
   "metadata": {},
   "outputs": [
    {
     "name": "stdout",
     "output_type": "stream",
     "text": [
      "<class 'pandas.core.frame.DataFrame'>\n",
      "RangeIndex: 2523 entries, 0 to 2522\n",
      "Data columns (total 6 columns):\n",
      " #   Column           Non-Null Count  Dtype  \n",
      "---  ------           --------------  -----  \n",
      " 0   full_text        2523 non-null   object \n",
      " 1   source           2523 non-null   object \n",
      " 2   final_sources    2523 non-null   object \n",
      " 3   text_final       2521 non-null   object \n",
      " 4   Vader Sentiment  2523 non-null   float64\n",
      " 5   Vader Analysis   2523 non-null   object \n",
      "dtypes: float64(1), object(5)\n",
      "memory usage: 69.1+ KB\n"
     ]
    }
   ],
   "source": [
    "# Looking for NaN, there appear to be 2 NaN values in text_final because they were all stop-words\n",
    "\n",
    "df.info()"
   ]
  },
  {
   "cell_type": "code",
   "execution_count": 7,
   "metadata": {},
   "outputs": [
    {
     "data": {
      "text/html": [
       "<div>\n",
       "<style scoped>\n",
       "    .dataframe tbody tr th:only-of-type {\n",
       "        vertical-align: middle;\n",
       "    }\n",
       "\n",
       "    .dataframe tbody tr th {\n",
       "        vertical-align: top;\n",
       "    }\n",
       "\n",
       "    .dataframe thead th {\n",
       "        text-align: right;\n",
       "    }\n",
       "</style>\n",
       "<table border=\"1\" class=\"dataframe\">\n",
       "  <thead>\n",
       "    <tr style=\"text-align: right;\">\n",
       "      <th></th>\n",
       "      <th>full_text</th>\n",
       "      <th>source</th>\n",
       "      <th>final_sources</th>\n",
       "      <th>text_final</th>\n",
       "      <th>Vader Sentiment</th>\n",
       "      <th>Vader Analysis</th>\n",
       "    </tr>\n",
       "  </thead>\n",
       "  <tbody>\n",
       "    <tr>\n",
       "      <th>574</th>\n",
       "      <td>My venmo and cashapp are both</td>\n",
       "      <td>&lt;a href=\"http://jillresh.com\" rel=\"nofollow\"&gt;j...</td>\n",
       "      <td>joey ebooks</td>\n",
       "      <td>NaN</td>\n",
       "      <td>0.0</td>\n",
       "      <td>Neutral</td>\n",
       "    </tr>\n",
       "    <tr>\n",
       "      <th>1524</th>\n",
       "      <td>My venmo and cashapp are both</td>\n",
       "      <td>&lt;a href=\"http://jillresh.com\" rel=\"nofollow\"&gt;j...</td>\n",
       "      <td>joey ebooks</td>\n",
       "      <td>NaN</td>\n",
       "      <td>0.0</td>\n",
       "      <td>Neutral</td>\n",
       "    </tr>\n",
       "  </tbody>\n",
       "</table>\n",
       "</div>"
      ],
      "text/plain": [
       "                          full_text  \\\n",
       "574   My venmo and cashapp are both   \n",
       "1524  My venmo and cashapp are both   \n",
       "\n",
       "                                                 source final_sources  \\\n",
       "574   <a href=\"http://jillresh.com\" rel=\"nofollow\">j...   joey ebooks   \n",
       "1524  <a href=\"http://jillresh.com\" rel=\"nofollow\">j...   joey ebooks   \n",
       "\n",
       "     text_final  Vader Sentiment Vader Analysis  \n",
       "574         NaN              0.0        Neutral  \n",
       "1524        NaN              0.0        Neutral  "
      ]
     },
     "execution_count": 7,
     "metadata": {},
     "output_type": "execute_result"
    }
   ],
   "source": [
    "df[df.text_final.isna()]"
   ]
  },
  {
   "cell_type": "code",
   "execution_count": 8,
   "metadata": {},
   "outputs": [
    {
     "name": "stdout",
     "output_type": "stream",
     "text": [
      "<class 'pandas.core.frame.DataFrame'>\n",
      "Int64Index: 2521 entries, 0 to 2522\n",
      "Data columns (total 6 columns):\n",
      " #   Column           Non-Null Count  Dtype  \n",
      "---  ------           --------------  -----  \n",
      " 0   full_text        2521 non-null   object \n",
      " 1   source           2521 non-null   object \n",
      " 2   final_sources    2521 non-null   object \n",
      " 3   text_final       2521 non-null   object \n",
      " 4   Vader Sentiment  2521 non-null   float64\n",
      " 5   Vader Analysis   2521 non-null   object \n",
      "dtypes: float64(1), object(5)\n",
      "memory usage: 88.6+ KB\n"
     ]
    }
   ],
   "source": [
    "# filtering the DataFrame to be nonnull values and checking again\n",
    "\n",
    "df = df[~df.text_final.isna()]\n",
    "df.info()"
   ]
  },
  {
   "cell_type": "code",
   "execution_count": 9,
   "metadata": {},
   "outputs": [
    {
     "data": {
      "text/plain": [
       "Index(['twitter for iphone', 'twitter for android', 'twitter web app'], dtype='object')"
      ]
     },
     "execution_count": 9,
     "metadata": {},
     "output_type": "execute_result"
    }
   ],
   "source": [
    "# checking to see what the top 3 most frequent tweet sources are:\n",
    "\n",
    "df.final_sources.value_counts().index[:3]\n"
   ]
  },
  {
   "cell_type": "code",
   "execution_count": 10,
   "metadata": {},
   "outputs": [
    {
     "data": {
      "text/plain": [
       "twitter for iphone     1550\n",
       "twitter for android     547\n",
       "twitter web app         344\n",
       "Name: final_sources, dtype: int64"
      ]
     },
     "execution_count": 10,
     "metadata": {},
     "output_type": "execute_result"
    }
   ],
   "source": [
    "top_3 = df.final_sources.value_counts().index[:3]\n",
    "\n",
    "df[df.final_sources.isin(top_3)].final_sources.value_counts()"
   ]
  },
  {
   "cell_type": "code",
   "execution_count": 11,
   "metadata": {},
   "outputs": [
    {
     "name": "stdout",
     "output_type": "stream",
     "text": [
      "<class 'pandas.core.frame.DataFrame'>\n",
      "Int64Index: 2441 entries, 0 to 2522\n",
      "Data columns (total 6 columns):\n",
      " #   Column           Non-Null Count  Dtype  \n",
      "---  ------           --------------  -----  \n",
      " 0   full_text        2441 non-null   object \n",
      " 1   source           2441 non-null   object \n",
      " 2   final_sources    2441 non-null   object \n",
      " 3   text_final       2441 non-null   object \n",
      " 4   Vader Sentiment  2441 non-null   float64\n",
      " 5   Vader Analysis   2441 non-null   object \n",
      "dtypes: float64(1), object(5)\n",
      "memory usage: 85.8+ KB\n"
     ]
    }
   ],
   "source": [
    "# creating a new dataframe of just the tweets from the top 3 sources\n",
    "\n",
    "df_top3 = df[df.final_sources.isin(top_3)]\n",
    "df_top3.info()"
   ]
  },
  {
   "cell_type": "code",
   "execution_count": 12,
   "metadata": {},
   "outputs": [
    {
     "name": "stderr",
     "output_type": "stream",
     "text": [
      "<ipython-input-12-9c21308c9f0f>:8: SettingWithCopyWarning: \n",
      "A value is trying to be set on a copy of a slice from a DataFrame.\n",
      "Try using .loc[row_indexer,col_indexer] = value instead\n",
      "\n",
      "See the caveats in the documentation: https://pandas.pydata.org/pandas-docs/stable/user_guide/indexing.html#returning-a-view-versus-a-copy\n",
      "  df_top3['labels'] = df_top3.final_sources.map(sources_map)\n",
      "<ipython-input-12-9c21308c9f0f>:9: SettingWithCopyWarning: \n",
      "A value is trying to be set on a copy of a slice from a DataFrame.\n",
      "Try using .loc[row_indexer,col_indexer] = value instead\n",
      "\n",
      "See the caveats in the documentation: https://pandas.pydata.org/pandas-docs/stable/user_guide/indexing.html#returning-a-view-versus-a-copy\n",
      "  df_top3['labels'] = df_top3.labels.astype('category')\n"
     ]
    },
    {
     "data": {
      "text/html": [
       "<div>\n",
       "<style scoped>\n",
       "    .dataframe tbody tr th:only-of-type {\n",
       "        vertical-align: middle;\n",
       "    }\n",
       "\n",
       "    .dataframe tbody tr th {\n",
       "        vertical-align: top;\n",
       "    }\n",
       "\n",
       "    .dataframe thead th {\n",
       "        text-align: right;\n",
       "    }\n",
       "</style>\n",
       "<table border=\"1\" class=\"dataframe\">\n",
       "  <thead>\n",
       "    <tr style=\"text-align: right;\">\n",
       "      <th></th>\n",
       "      <th>full_text</th>\n",
       "      <th>source</th>\n",
       "      <th>final_sources</th>\n",
       "      <th>text_final</th>\n",
       "      <th>Vader Sentiment</th>\n",
       "      <th>Vader Analysis</th>\n",
       "      <th>labels</th>\n",
       "    </tr>\n",
       "  </thead>\n",
       "  <tbody>\n",
       "    <tr>\n",
       "      <th>0</th>\n",
       "      <td>@lysisbunny @wheeingloss Dm me if you need hel...</td>\n",
       "      <td>&lt;a href=\"http://twitter.com/download/iphone\" r...</td>\n",
       "      <td>twitter for iphone</td>\n",
       "      <td>lysisbunni wheeingloss dm need help bill cash app</td>\n",
       "      <td>0.4019</td>\n",
       "      <td>Neutral</td>\n",
       "      <td>0</td>\n",
       "    </tr>\n",
       "    <tr>\n",
       "      <th>1</th>\n",
       "      <td>RT @nope_thank_u: OR countless other Māori org...</td>\n",
       "      <td>&lt;a href=\"http://twitter.com/download/iphone\" r...</td>\n",
       "      <td>twitter for iphone</td>\n",
       "      <td>rt nope thank u countless ori organis fight or...</td>\n",
       "      <td>0.1999</td>\n",
       "      <td>Neutral</td>\n",
       "      <td>0</td>\n",
       "    </tr>\n",
       "    <tr>\n",
       "      <th>2</th>\n",
       "      <td>RT @voicesofvv: Driving around to our usual sp...</td>\n",
       "      <td>&lt;a href=\"https://mobile.twitter.com\" rel=\"nofo...</td>\n",
       "      <td>twitter web app</td>\n",
       "      <td>rt voicesofvv drive around usual spot weekli d...</td>\n",
       "      <td>0.3612</td>\n",
       "      <td>Neutral</td>\n",
       "      <td>2</td>\n",
       "    </tr>\n",
       "    <tr>\n",
       "      <th>3</th>\n",
       "      <td>RT @roshan_pie: I'm struggling financially rig...</td>\n",
       "      <td>&lt;a href=\"http://twitter.com/download/iphone\" r...</td>\n",
       "      <td>twitter for iphone</td>\n",
       "      <td>rt roshan pie struggl financi right employ end...</td>\n",
       "      <td>0.0000</td>\n",
       "      <td>Neutral</td>\n",
       "      <td>0</td>\n",
       "    </tr>\n",
       "    <tr>\n",
       "      <th>4</th>\n",
       "      <td>@babyygirlvenus Dm me if you need help with bi...</td>\n",
       "      <td>&lt;a href=\"http://twitter.com/download/iphone\" r...</td>\n",
       "      <td>twitter for iphone</td>\n",
       "      <td>babyygirlvenu dm need help bill cash app</td>\n",
       "      <td>0.4019</td>\n",
       "      <td>Neutral</td>\n",
       "      <td>0</td>\n",
       "    </tr>\n",
       "  </tbody>\n",
       "</table>\n",
       "</div>"
      ],
      "text/plain": [
       "                                           full_text  \\\n",
       "0  @lysisbunny @wheeingloss Dm me if you need hel...   \n",
       "1  RT @nope_thank_u: OR countless other Māori org...   \n",
       "2  RT @voicesofvv: Driving around to our usual sp...   \n",
       "3  RT @roshan_pie: I'm struggling financially rig...   \n",
       "4  @babyygirlvenus Dm me if you need help with bi...   \n",
       "\n",
       "                                              source       final_sources  \\\n",
       "0  <a href=\"http://twitter.com/download/iphone\" r...  twitter for iphone   \n",
       "1  <a href=\"http://twitter.com/download/iphone\" r...  twitter for iphone   \n",
       "2  <a href=\"https://mobile.twitter.com\" rel=\"nofo...     twitter web app   \n",
       "3  <a href=\"http://twitter.com/download/iphone\" r...  twitter for iphone   \n",
       "4  <a href=\"http://twitter.com/download/iphone\" r...  twitter for iphone   \n",
       "\n",
       "                                          text_final  Vader Sentiment  \\\n",
       "0  lysisbunni wheeingloss dm need help bill cash app           0.4019   \n",
       "1  rt nope thank u countless ori organis fight or...           0.1999   \n",
       "2  rt voicesofvv drive around usual spot weekli d...           0.3612   \n",
       "3  rt roshan pie struggl financi right employ end...           0.0000   \n",
       "4           babyygirlvenu dm need help bill cash app           0.4019   \n",
       "\n",
       "  Vader Analysis labels  \n",
       "0        Neutral      0  \n",
       "1        Neutral      0  \n",
       "2        Neutral      2  \n",
       "3        Neutral      0  \n",
       "4        Neutral      0  "
      ]
     },
     "execution_count": 12,
     "metadata": {},
     "output_type": "execute_result"
    }
   ],
   "source": [
    "# creating a category feature identifying the tweet source\n",
    "\n",
    "sources_map = {\n",
    "    'twitter for iphone': 0,\n",
    "    'twitter for android': 1,\n",
    "    'twitter web app': 2\n",
    "}\n",
    "df_top3['labels'] = df_top3.final_sources.map(sources_map)\n",
    "df_top3['labels'] = df_top3.labels.astype('category')\n",
    "df_top3.head()"
   ]
  },
  {
   "cell_type": "code",
   "execution_count": 13,
   "metadata": {},
   "outputs": [
    {
     "data": {
      "text/html": [
       "<div>\n",
       "<style scoped>\n",
       "    .dataframe tbody tr th:only-of-type {\n",
       "        vertical-align: middle;\n",
       "    }\n",
       "\n",
       "    .dataframe tbody tr th {\n",
       "        vertical-align: top;\n",
       "    }\n",
       "\n",
       "    .dataframe thead th {\n",
       "        text-align: right;\n",
       "    }\n",
       "</style>\n",
       "<table border=\"1\" class=\"dataframe\">\n",
       "  <thead>\n",
       "    <tr style=\"text-align: right;\">\n",
       "      <th></th>\n",
       "      <th>full_text</th>\n",
       "      <th>source</th>\n",
       "      <th>final_sources</th>\n",
       "      <th>text_final</th>\n",
       "      <th>Vader Sentiment</th>\n",
       "      <th>Vader Analysis</th>\n",
       "    </tr>\n",
       "    <tr>\n",
       "      <th>labels</th>\n",
       "      <th></th>\n",
       "      <th></th>\n",
       "      <th></th>\n",
       "      <th></th>\n",
       "      <th></th>\n",
       "      <th></th>\n",
       "    </tr>\n",
       "  </thead>\n",
       "  <tbody>\n",
       "    <tr>\n",
       "      <th>0</th>\n",
       "      <td>1550</td>\n",
       "      <td>1550</td>\n",
       "      <td>1550</td>\n",
       "      <td>1550</td>\n",
       "      <td>1550</td>\n",
       "      <td>1550</td>\n",
       "    </tr>\n",
       "    <tr>\n",
       "      <th>1</th>\n",
       "      <td>547</td>\n",
       "      <td>547</td>\n",
       "      <td>547</td>\n",
       "      <td>547</td>\n",
       "      <td>547</td>\n",
       "      <td>547</td>\n",
       "    </tr>\n",
       "    <tr>\n",
       "      <th>2</th>\n",
       "      <td>344</td>\n",
       "      <td>344</td>\n",
       "      <td>344</td>\n",
       "      <td>344</td>\n",
       "      <td>344</td>\n",
       "      <td>344</td>\n",
       "    </tr>\n",
       "  </tbody>\n",
       "</table>\n",
       "</div>"
      ],
      "text/plain": [
       "        full_text  source  final_sources  text_final  Vader Sentiment  \\\n",
       "labels                                                                  \n",
       "0            1550    1550           1550        1550             1550   \n",
       "1             547     547            547         547              547   \n",
       "2             344     344            344         344              344   \n",
       "\n",
       "        Vader Analysis  \n",
       "labels                  \n",
       "0                 1550  \n",
       "1                  547  \n",
       "2                  344  "
      ]
     },
     "execution_count": 13,
     "metadata": {},
     "output_type": "execute_result"
    }
   ],
   "source": [
    "df_top3.groupby('labels').count()"
   ]
  },
  {
   "cell_type": "code",
   "execution_count": 18,
   "metadata": {},
   "outputs": [],
   "source": [
    "# create the corpus for TFIDF\n",
    "\n",
    "corpus = df_top3['text_final'].values.astype('U')\n",
    "tfidf = TfidfVectorizer()\n",
    "X = tfidf.fit_transform(corpus)\n",
    "y = df_top3['labels']"
   ]
  },
  {
   "cell_type": "code",
   "execution_count": 29,
   "metadata": {},
   "outputs": [],
   "source": [
    "# Split the data into testing & training data sets\n",
    "\n",
    "X_train, X_test, y_train, y_test = train_test_split(X, y, test_size=0.2, stratify=y)"
   ]
  },
  {
   "cell_type": "code",
   "execution_count": 30,
   "metadata": {},
   "outputs": [
    {
     "data": {
      "text/plain": [
       "(1952, 3305)"
      ]
     },
     "execution_count": 30,
     "metadata": {},
     "output_type": "execute_result"
    }
   ],
   "source": [
    "# Looking to make sure they are the same length\n",
    "\n",
    "X_train.shape"
   ]
  },
  {
   "cell_type": "code",
   "execution_count": 31,
   "metadata": {},
   "outputs": [
    {
     "data": {
      "text/plain": [
       "(1952,)"
      ]
     },
     "execution_count": 31,
     "metadata": {},
     "output_type": "execute_result"
    }
   ],
   "source": [
    "y_train.shape"
   ]
  },
  {
   "cell_type": "code",
   "execution_count": 42,
   "metadata": {},
   "outputs": [
    {
     "data": {
      "text/plain": [
       "RandomForestClassifier()"
      ]
     },
     "execution_count": 42,
     "metadata": {},
     "output_type": "execute_result"
    }
   ],
   "source": [
    "# fit the training data with a Random Forest Classifier\n",
    "\n",
    "classifier = RandomForestClassifier()\n",
    "classifier.fit(X_train, y_train)"
   ]
  },
  {
   "cell_type": "code",
   "execution_count": 43,
   "metadata": {},
   "outputs": [
    {
     "name": "stdout",
     "output_type": "stream",
     "text": [
      "ROC AUC:  0.8450481559034877\n",
      "Classification Report:\n",
      "              precision    recall  f1-score   support\n",
      "\n",
      "           0       0.78      0.90      0.83       310\n",
      "           1       0.58      0.49      0.53       110\n",
      "           2       0.78      0.42      0.55        69\n",
      "\n",
      "    accuracy                           0.74       489\n",
      "   macro avg       0.71      0.60      0.64       489\n",
      "weighted avg       0.73      0.74      0.73       489\n",
      "\n",
      "Accuracy: 0.7402862985685071\n"
     ]
    }
   ],
   "source": [
    "y_pred = classifier.predict(X_test)\n",
    "y_prob = classifier.predict_proba(X_test)\n",
    "print(\"ROC AUC: \", roc_auc_score(y_test, y_prob, multi_class='ovr'))\n",
    "print(\"Classification Report:\",)\n",
    "print (classification_report(y_test, y_pred))\n",
    "print(\"Accuracy:\", accuracy_score(y_test,y_pred))"
   ]
  },
  {
   "cell_type": "code",
   "execution_count": 44,
   "metadata": {},
   "outputs": [
    {
     "name": "stdout",
     "output_type": "stream",
     "text": [
      "ROC AUC:  0.831989034808109\n",
      "Classification Report:\n",
      "              precision    recall  f1-score   support\n",
      "\n",
      "           0       0.78      0.90      0.83       310\n",
      "           1       0.58      0.49      0.53       110\n",
      "           2       0.78      0.42      0.55        69\n",
      "\n",
      "    accuracy                           0.74       489\n",
      "   macro avg       0.71      0.60      0.64       489\n",
      "weighted avg       0.73      0.74      0.73       489\n",
      "\n",
      "Accuracy: 0.7402862985685071\n"
     ]
    }
   ],
   "source": [
    "y_pred = classifier.predict(X_test)\n",
    "y_prob = classifier.predict_proba(X_test)\n",
    "print(\"ROC AUC: \", roc_auc_score(y_test, y_prob, multi_class='ovo'))\n",
    "print(\"Classification Report:\",)\n",
    "print (classification_report(y_test, y_pred))\n",
    "print(\"Accuracy:\", accuracy_score(y_test,y_pred))"
   ]
  },
  {
   "cell_type": "code",
   "execution_count": null,
   "metadata": {},
   "outputs": [],
   "source": []
  }
 ],
 "metadata": {
  "kernelspec": {
   "display_name": "Python 3",
   "language": "python",
   "name": "python3"
  },
  "language_info": {
   "codemirror_mode": {
    "name": "ipython",
    "version": 3
   },
   "file_extension": ".py",
   "mimetype": "text/x-python",
   "name": "python",
   "nbconvert_exporter": "python",
   "pygments_lexer": "ipython3",
   "version": "3.8.3"
  }
 },
 "nbformat": 4,
 "nbformat_minor": 4
}
